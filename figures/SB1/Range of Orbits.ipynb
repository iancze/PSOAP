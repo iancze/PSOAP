{
 "cells": [
  {
   "cell_type": "code",
   "execution_count": 1,
   "metadata": {
    "collapsed": true
   },
   "outputs": [],
   "source": [
    "import numpy as np\n",
    "import matplotlib\n",
    "\n",
    "import matplotlib.pyplot as plt\n",
    "import psoap\n",
    "from psoap.data import lkca14\n",
    "from psoap import matrix_functions\n",
    "from psoap import covariance\n",
    "\n",
    "from matplotlib.ticker import FormatStrFormatter as FSF\n",
    "from matplotlib.ticker import MaxNLocator\n",
    "from matplotlib.ticker import MultipleLocator\n",
    "\n",
    "\n",
    "from psoap import orbit"
   ]
  },
  {
   "cell_type": "code",
   "execution_count": 2,
   "metadata": {
    "collapsed": true
   },
   "outputs": [],
   "source": [
    "flatchain = np.load(\"flatchain.npy\")"
   ]
  },
  {
   "cell_type": "code",
   "execution_count": 3,
   "metadata": {
    "collapsed": true
   },
   "outputs": [],
   "source": [
    "K = 5.0 # km/s\n",
    "e = 0.2 # \n",
    "omega = 10.0 # deg\n",
    "P = 10.0 # days\n",
    "T0 = 0.0 # epoch\n",
    "gamma = 5.0 # km/s\n",
    "\n",
    "obs_dates = np.linspace(5, 30, num=7)\n",
    "\n",
    "\n",
    "sb1 = orbit.SB1(K, e, omega, P, T0, gamma, obs_dates)"
   ]
  },
  {
   "cell_type": "code",
   "execution_count": 4,
   "metadata": {
    "collapsed": true
   },
   "outputs": [],
   "source": [
    "vA_true = sb1.get_component_velocities()"
   ]
  },
  {
   "cell_type": "code",
   "execution_count": 5,
   "metadata": {
    "collapsed": true
   },
   "outputs": [],
   "source": [
    "dates_fine = np.linspace(0, 35, num=200)"
   ]
  },
  {
   "cell_type": "code",
   "execution_count": 6,
   "metadata": {
    "collapsed": true
   },
   "outputs": [],
   "source": [
    "vA_fine_true = sb1.get_component_velocities(dates_fine)\n"
   ]
  },
  {
   "cell_type": "code",
   "execution_count": 10,
   "metadata": {
    "collapsed": true
   },
   "outputs": [],
   "source": [
    "def get_vels(p):\n",
    "    K, e, omega, P, T0, amp_f, l_f = p\n",
    "    \n",
    "    # Update the orbit\n",
    "    sb1.K = K\n",
    "    sb1.e = e\n",
    "    sb1.omega = omega\n",
    "    sb1.P = P\n",
    "    sb1.T0 = T0\n",
    "#     orb.gamma = gamma\n",
    "    vA_samp = sb1.get_component_velocities()\n",
    "    vA_fine = sb1.get_component_velocities(dates_fine)\n",
    "    return (vA_samp, vA_fine)"
   ]
  },
  {
   "cell_type": "code",
   "execution_count": 15,
   "metadata": {
    "collapsed": false
   },
   "outputs": [],
   "source": [
    "fig, ax = plt.subplots(nrows=2,sharex=True,figsize=(3.5, 4.0))\n",
    "\n",
    "\n",
    "for p in flatchain[0:1000:100]:\n",
    "    vA, vA_fine = get_vels(p)\n",
    "    \n",
    "    ax[0].plot(dates_fine, vA_fine, color=\"0.5\", lw=0.3)\n",
    "    ax[0].plot(sb1.obs_dates, vA, \".\", color=\"0.5\")\n",
    "    \n",
    "    ax[1].plot(sb1.obs_dates, vA - vA_true, \".\", color=\"0.5\")\n",
    "    \n",
    "ax[0].plot(dates_fine, vA_fine_true, \"b\")\n",
    "ax[0].plot(sb1.obs_dates, vA_true, \"bo\")\n",
    "\n",
    "ax[0].axhline(gamma, ls=\"-.\", color=\"0.5\")\n",
    "\n",
    "ax[1].set_xlabel(r\"$t$ [days]\")\n",
    "ax[1].set_ylabel(r\"$v_A$ [km $\\mathrm{s}^{-1}$]\")\n",
    "\n",
    "fig.subplots_adjust(left=0.14, right=0.86, bottom=0.24)\n",
    "fig.savefig(\"SB1_orbit.png\")\n",
    "fig.savefig(\"SB1_orbit.pdf\")"
   ]
  },
  {
   "cell_type": "code",
   "execution_count": null,
   "metadata": {
    "collapsed": true
   },
   "outputs": [],
   "source": []
  }
 ],
 "metadata": {
  "kernelspec": {
   "display_name": "Python 3",
   "language": "python",
   "name": "python3"
  },
  "language_info": {
   "codemirror_mode": {
    "name": "ipython",
    "version": 3
   },
   "file_extension": ".py",
   "mimetype": "text/x-python",
   "name": "python",
   "nbconvert_exporter": "python",
   "pygments_lexer": "ipython3",
   "version": "3.5.2"
  }
 },
 "nbformat": 4,
 "nbformat_minor": 0
}
