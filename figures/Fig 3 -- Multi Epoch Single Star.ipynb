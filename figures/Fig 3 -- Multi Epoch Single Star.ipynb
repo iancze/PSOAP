{
 "cells": [
  {
   "cell_type": "code",
   "execution_count": 1,
   "metadata": {
    "collapsed": false
   },
   "outputs": [],
   "source": [
    "import numpy as np\n",
    "import matplotlib\n",
    "\n",
    "import matplotlib.pyplot as plt\n",
    "import psoap\n",
    "from psoap.data import lkca14\n",
    "from psoap import matrix_functions\n",
    "from psoap import covariance\n",
    "\n",
    "from matplotlib.ticker import FormatStrFormatter as FSF\n",
    "from matplotlib.ticker import MaxNLocator\n",
    "from matplotlib.ticker import MultipleLocator\n"
   ]
  },
  {
   "cell_type": "code",
   "execution_count": 2,
   "metadata": {
    "collapsed": true
   },
   "outputs": [],
   "source": [
    "order = 22\n",
    "wl0 = 5165\n",
    "wl1 = 5178"
   ]
  },
  {
   "cell_type": "code",
   "execution_count": 3,
   "metadata": {
    "collapsed": true
   },
   "outputs": [],
   "source": [
    "a = 0.26\n",
    "l = 6.0"
   ]
  },
  {
   "cell_type": "code",
   "execution_count": 4,
   "metadata": {
    "collapsed": false
   },
   "outputs": [],
   "source": [
    "lkca14.sort_by_SN()\n",
    "n_epochs = 10\n",
    "wl = lkca14.wl[0:n_epochs,order,:]\n",
    "# Sort by ind\n",
    "ind = (wl[0] > wl0) & (wl[0] < wl1)\n",
    "\n",
    "wl = wl[:,ind]\n",
    "fl = lkca14.fl[0:n_epochs,order,ind]\n",
    "sigma = lkca14.sigma[0:n_epochs,order,ind]\n",
    "date1D = lkca14.date1D[0:n_epochs]"
   ]
  },
  {
   "cell_type": "code",
   "execution_count": 6,
   "metadata": {
    "collapsed": true
   },
   "outputs": [],
   "source": [
    "mu, Sigma = covariance.predict_one(wl.flatten(), fl.flatten(), sigma.flatten(), wl.flatten(), a, l)\n",
    "# Sigma[np.diag_indices_from(Sigma)] += 1e-10 * np.ones(N)"
   ]
  },
  {
   "cell_type": "code",
   "execution_count": 8,
   "metadata": {
    "collapsed": true
   },
   "outputs": [],
   "source": [
    "ax_width = 3.0\n",
    "ax_height = 1.0\n",
    "ax_resid_height = 0.5\n",
    "\n",
    "left_margin = 0.55\n",
    "right_margin = 0.55\n",
    "\n",
    "bottom_margin = 0.4\n",
    "top_margin = 0.25\n",
    "\n",
    "middle_margin = 0.1\n",
    "\n",
    "y_min = 0.2\n",
    "y_max = 1.6\n",
    "dy = (y_max - y_min)/ax_height\n",
    "\n",
    "delta_y_resid = dy * ax_resid_height / 2\n",
    "\n",
    "xx = left_margin + right_margin + ax_width\n",
    "yy = bottom_margin + top_margin + middle_margin + ax_height + ax_resid_height\n",
    "\n",
    "fig = plt.figure(figsize=(xx,yy))\n",
    "\n",
    "# in figure fraction\n",
    "rect = [left_margin/xx, (yy - (top_margin + ax_height))/yy, ax_width/xx, ax_height/yy]\n",
    " \n",
    "ax0 = fig.add_axes(rect)\n",
    "ax0.xaxis.set_ticklabels([])\n",
    "\n",
    "for i in range(n_epochs):\n",
    "    ax0.errorbar(wl[i], fl[i], yerr=sigma[i], fmt=\"none\", color=\"0.6\", capsize=0.0, ecolor=\"0.6\", lw=0.3)\n",
    "    ax0.plot(wl[i], fl[i], \".\", ms=2)\n",
    "\n",
    "ind_sort = np.argsort(wl.flatten())\n",
    "ax0.plot(wl.flatten()[ind_sort], mu[ind_sort], \"k\", lw=0.7)\n",
    "\n",
    "ax0.set_xlim(wl0, wl1)\n",
    "ax0.set_ylim(y_min, y_max)\n",
    "ax0.xaxis.set_ticklabels([])\n",
    "\n",
    "\n",
    "rect = [left_margin/xx, (yy - (top_margin + ax_height + middle_margin + ax_resid_height))/yy, \n",
    "        ax_width/xx, ax_resid_height/yy]\n",
    "ax1 = fig.add_axes(rect)\n",
    "\n",
    "\n",
    "# compute residuals and reshape\n",
    "mu.shape = (n_epochs, -1)\n",
    "resid = fl - mu\n",
    "\n",
    "for i in range(n_epochs):\n",
    "    ax1.errorbar(wl[i], resid[i], yerr=sigma[i], fmt=\"none\", \n",
    "             color=\"0.6\", capsize=0.0, ecolor=\"0.6\", lw=0.3)\n",
    "    ax1.plot(wl[i], resid[i], \".\", ms=2)\n",
    "    \n",
    "ax1.set_xlim(wl0, wl1)\n",
    "ax1.set_ylim(-delta_y_resid, delta_y_resid)\n",
    "ax1.set_xlabel(r\"$\\lambda\\;[\\AA]$\")\n",
    "\n",
    "fig.savefig(\"single_star_multi_epoch.pdf\")\n",
    "fig.savefig(\"single_star_multi_epoch.png\")"
   ]
  },
  {
   "cell_type": "code",
   "execution_count": null,
   "metadata": {
    "collapsed": true
   },
   "outputs": [],
   "source": []
  }
 ],
 "metadata": {
  "kernelspec": {
   "display_name": "Python 3",
   "language": "python",
   "name": "python3"
  },
  "language_info": {
   "codemirror_mode": {
    "name": "ipython",
    "version": 3
   },
   "file_extension": ".py",
   "mimetype": "text/x-python",
   "name": "python",
   "nbconvert_exporter": "python",
   "pygments_lexer": "ipython3",
   "version": "3.5.2"
  }
 },
 "nbformat": 4,
 "nbformat_minor": 0
}
