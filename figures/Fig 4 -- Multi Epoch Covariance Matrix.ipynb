{
 "cells": [
  {
   "cell_type": "code",
   "execution_count": 13,
   "metadata": {
    "collapsed": false
   },
   "outputs": [],
   "source": [
    "import numpy as np\n",
    "import matplotlib\n",
    "\n",
    "import matplotlib.pyplot as plt\n",
    "import psoap\n",
    "from psoap.data import lkca14\n",
    "from psoap import matrix_functions\n",
    "from psoap import covariance\n",
    "\n",
    "from matplotlib.ticker import FormatStrFormatter as FSF\n",
    "from matplotlib.ticker import MaxNLocator\n",
    "from matplotlib.ticker import MultipleLocator\n",
    "\n",
    "from matplotlib.colors import Normalize"
   ]
  },
  {
   "cell_type": "code",
   "execution_count": 85,
   "metadata": {
    "collapsed": false
   },
   "outputs": [
    {
     "name": "stdout",
     "output_type": "stream",
     "text": [
      "Figure is 5.9 x 3.28\n"
     ]
    }
   ],
   "source": [
    "ax_size = 2 # in\n",
    "left_margin = 0.5 # in\n",
    "middle_margin = 0.7 # in\n",
    "right_margin = 0.7 # in\n",
    "top_margin = 0.8 # in\n",
    "bottom_margin = 0.48 # in\n",
    "\n",
    "label_width = 0.12 # in\n",
    "label_pad = 0.1 # in\n",
    "\n",
    "cb_width = 0.1 # in\n",
    "cb_height = 2.4 # in\n",
    "\n",
    "xx = 2 * ax_size + left_margin + middle_margin + right_margin\n",
    "yy = top_margin + ax_size + bottom_margin\n",
    "\n",
    "print(\"Figure is {} x {}\".format(xx, yy))"
   ]
  },
  {
   "cell_type": "code",
   "execution_count": 80,
   "metadata": {
    "collapsed": true
   },
   "outputs": [],
   "source": [
    "order = 22\n",
    "wl0 = 5165\n",
    "wl1 = 5170"
   ]
  },
  {
   "cell_type": "code",
   "execution_count": 81,
   "metadata": {
    "collapsed": true
   },
   "outputs": [],
   "source": [
    "a = 0.26\n",
    "l = 6.0"
   ]
  },
  {
   "cell_type": "code",
   "execution_count": 82,
   "metadata": {
    "collapsed": false
   },
   "outputs": [],
   "source": [
    "lkca14.sort_by_SN()\n",
    "n_epochs = 3\n",
    "wl = lkca14.wl[0:n_epochs,order,:]\n",
    "# Sort by ind\n",
    "ind = (wl[0] > wl0) & (wl[0] < wl1)\n",
    "\n",
    "wl = wl[:,ind]\n",
    "fl = lkca14.fl[0:n_epochs,order,ind]\n",
    "sigma = lkca14.sigma[0:n_epochs,order,ind]\n",
    "date1D = lkca14.date1D[0:n_epochs]"
   ]
  },
  {
   "cell_type": "code",
   "execution_count": 83,
   "metadata": {
    "collapsed": false
   },
   "outputs": [],
   "source": [
    "N = len(wl.flatten())\n",
    "V11 = np.empty((N,N), dtype=np.float64)\n",
    "matrix_functions.fill_V11_f(V11, wl.flatten(), a, l)\n",
    "\n",
    "VN = 50 * np.diag(sigma.flatten()**2)\n"
   ]
  },
  {
   "cell_type": "code",
   "execution_count": 86,
   "metadata": {
    "collapsed": false
   },
   "outputs": [
    {
     "name": "stdout",
     "output_type": "stream",
     "text": [
      "0.0676\n"
     ]
    }
   ],
   "source": [
    "fig = plt.figure(figsize=(xx, yy))\n",
    "\n",
    "ax_F = fig.add_axes([left_margin/xx, bottom_margin/yy, ax_size/xx, ax_size/yy])\n",
    "ax_N = fig.add_axes([(left_margin + middle_margin + ax_size)/xx, bottom_margin/yy, ax_size/xx, ax_size/yy])\n",
    "\n",
    "ax_cb = fig.add_axes([(left_margin + middle_margin + 2 * ax_size + 0.4 * (right_margin - cb_width))/xx, \n",
    "                       0.5 * (yy - cb_height)/yy, cb_width/xx, cb_height/yy])\n",
    "\n",
    "# ext = (wl0, wl1, wl0, wl1)\n",
    "maximum = np.max(np.concatenate((V11.flatten(), VN.flatten())))\n",
    "print(maximum)\n",
    "norm = Normalize(vmin=0.0, vmax=maximum)\n",
    "\n",
    "ax_F.imshow(V11, interpolation=\"none\", cmap=\"viridis\", origin=\"upper\", norm=norm) #, extent=ext)\n",
    "\n",
    "im = ax_N.imshow(VN, interpolation=\"none\", cmap=\"viridis\", origin=\"upper\", norm=norm)\n",
    "\n",
    "# ax.xaxis.set_major_locator(MultipleLocator(2.0))\n",
    "# ax.yaxis.set_major_locator(MultipleLocator(2.0))\n",
    "\n",
    "\n",
    "# Create an axis that is the pixel index\n",
    "# Then label (1,1) (2,3) etc. In the caption we can explain what these reference.\n",
    "\n",
    "de = N/n_epochs\n",
    "\n",
    "x_offset = 0.75 * de\n",
    "y_offset = 0.2 * de\n",
    "\n",
    "lw=0.3\n",
    "\n",
    "for ax in [ax_F, ax_N]:\n",
    "    ax.axhline(de, color=\"w\", lw=lw)\n",
    "    ax.axhline(2 * de, color=\"w\", lw=lw)\n",
    "    ax.axvline(de, color=\"w\", lw=lw)\n",
    "    ax.axvline(2 * de, color=\"w\", lw=lw)\n",
    "    \n",
    "    ax.xaxis.set_ticklabels([])\n",
    "    ax.yaxis.set_ticklabels([])\n",
    "\n",
    "    for i in range(n_epochs):\n",
    "        for j in range(n_epochs):\n",
    "            ax.annotate(\"({},{})\".format(j+1,i+1), (x_offset + i * de, y_offset + j * de), \n",
    "                        color=\"w\", size=\"x-small\", ha=\"center\")\n",
    "\n",
    "# Now set up labels for the wavelengths\n",
    "# Do this by creating ghost axes\n",
    "\n",
    "ax_F_label_l = fig.add_axes([(left_margin - label_width - label_pad)/xx, bottom_margin/yy, label_width/xx, ax_size/yy])\n",
    "ax_F_label_b = fig.add_axes([left_margin/xx, (bottom_margin - label_width - label_pad)/yy, ax_size/xx, label_width/yy])    \n",
    "\n",
    "ax_N_label_l = fig.add_axes([(left_margin + ax_size + middle_margin - label_width - label_pad)/xx, bottom_margin/yy, label_width/xx, ax_size/yy])\n",
    "ax_N_label_b = fig.add_axes([(left_margin + ax_size + middle_margin)/xx, (bottom_margin - label_width - label_pad)/yy, ax_size/xx, label_width/yy])    \n",
    "\n",
    "for (ax_label_l, ax_label_b) in [(ax_F_label_l, ax_F_label_b), (ax_N_label_l, ax_N_label_b)]:\n",
    "\n",
    "    dlabel = 0.333 / 2\n",
    "\n",
    "    ax_label_l.axvline(0.5, color=\"k\", lw=0.8)    \n",
    "    ax_label_b.axhline(0.5, color=\"k\", lw=0.8)    \n",
    "    \n",
    "    for val in [0, 0.333, 0.666, 1.0]:\n",
    "        ax_label_l.axhline(val, color=\"k\", lw=0.8)\n",
    "        ax_label_b.axvline(val, color=\"k\", lw=0.8)\n",
    "\n",
    "    ax_label_l.text(0.5, dlabel, r\"$\\mathbf{\\lambda}_3$\", ha=\"center\", va=\"center\", backgroundcolor=\"w\")\n",
    "    ax_label_l.text(0.5, 0.333 + dlabel, r\"$\\mathbf{\\lambda}_2$\", ha=\"center\", va=\"center\", backgroundcolor=\"w\")\n",
    "    ax_label_l.text(0.5, 0.666 + dlabel, r\"$\\mathbf{\\lambda}_1$\", ha=\"center\", va=\"center\", backgroundcolor=\"w\")\n",
    "\n",
    "    ax_label_b.text(dlabel, 0.5, r\"$\\mathbf{\\lambda}_1$\", ha=\"center\", va=\"center\", backgroundcolor=\"w\")\n",
    "    ax_label_b.text(0.333 + dlabel, 0.5, r\"$\\mathbf{\\lambda}_2$\", ha=\"center\", va=\"center\", backgroundcolor=\"w\")\n",
    "    ax_label_b.text(0.666 + dlabel, 0.5, r\"$\\mathbf{\\lambda}_3$\", ha=\"center\", va=\"center\", backgroundcolor=\"w\")    \n",
    "\n",
    "    for ax in [ax_label_l, ax_label_b]:    \n",
    "        ax.set_xlim(0, 1)\n",
    "        ax.set_ylim(0, 1)\n",
    "        ax.axis(\"off\")\n",
    "\n",
    "    \n",
    "# Create the labels\n",
    "plt.figtext((0.5 * left_margin)/xx, (bottom_margin + ax_size + 0.5 * top_margin)/yy, \n",
    "            r\"$\\mathbf{A}$\", ha=\"center\", va=\"center\", fontsize=16)\n",
    "\n",
    "plt.figtext((left_margin + 0.05 * ax_size)/xx, (bottom_margin + ax_size + 0.5 * top_margin)/yy, \n",
    "            r\"$\\mathbf{=}$\", ha=\"center\", va=\"center\", fontsize=16)\n",
    "\n",
    "plt.figtext((left_margin + 0.5 * ax_size)/xx, (bottom_margin + ax_size + 0.5 * top_margin)/yy, \n",
    "            r\"$\\mathbf{\\Sigma}_F$\", ha=\"center\", va=\"center\", fontsize=16)\n",
    "\n",
    "plt.figtext((left_margin + ax_size + 0.5 * middle_margin)/xx, (bottom_margin + ax_size + 0.5 * top_margin)/yy, \n",
    "            r\"$\\mathbf{+}$\", ha=\"center\", va=\"center\", fontsize=16)\n",
    "\n",
    "plt.figtext((left_margin + 1.5 * ax_size + middle_margin)/xx, (bottom_margin + ax_size + 0.5 * top_margin)/yy, \n",
    "            r\"$\\mathbf{\\Sigma}_N$\", ha=\"center\", va=\"center\", fontsize=16)\n",
    "\n",
    "\n",
    "\n",
    "\n",
    "cbar = fig.colorbar(im, cax=ax_cb)\n",
    "cbar.ax.tick_params(labelsize=8) \n",
    "\n",
    "fig.subplots_adjust(left=0.2, right=0.9)\n",
    "fig.savefig(\"V11_multi_epoch.pdf\")\n",
    "fig.savefig(\"V11_multi_epoch.png\")\n",
    "plt.close(\"all\")"
   ]
  },
  {
   "cell_type": "code",
   "execution_count": null,
   "metadata": {
    "collapsed": true
   },
   "outputs": [],
   "source": []
  }
 ],
 "metadata": {
  "kernelspec": {
   "display_name": "Python 3",
   "language": "python",
   "name": "python3"
  },
  "language_info": {
   "codemirror_mode": {
    "name": "ipython",
    "version": 3
   },
   "file_extension": ".py",
   "mimetype": "text/x-python",
   "name": "python",
   "nbconvert_exporter": "python",
   "pygments_lexer": "ipython3",
   "version": "3.5.2"
  }
 },
 "nbformat": 4,
 "nbformat_minor": 0
}
