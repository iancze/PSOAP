{
 "cells": [
  {
   "cell_type": "code",
   "execution_count": 1,
   "metadata": {
    "collapsed": false
   },
   "outputs": [],
   "source": [
    "import numpy as np\n",
    "import matplotlib\n",
    "\n",
    "import matplotlib.pyplot as plt\n",
    "import psoap\n",
    "from psoap.data import lkca14\n",
    "from psoap import matrix_functions\n",
    "from psoap import covariance\n",
    "\n",
    "from matplotlib.ticker import FormatStrFormatter as FSF\n",
    "from matplotlib.ticker import MaxNLocator\n",
    "from matplotlib.ticker import MultipleLocator"
   ]
  },
  {
   "cell_type": "code",
   "execution_count": 2,
   "metadata": {
    "collapsed": true
   },
   "outputs": [],
   "source": [
    "order = 22\n",
    "wl0 = 5165\n",
    "wl1 = 5170"
   ]
  },
  {
   "cell_type": "code",
   "execution_count": 3,
   "metadata": {
    "collapsed": true
   },
   "outputs": [],
   "source": [
    "a = 0.26\n",
    "l = 6.0"
   ]
  },
  {
   "cell_type": "code",
   "execution_count": 4,
   "metadata": {
    "collapsed": false
   },
   "outputs": [],
   "source": [
    "lkca14.sort_by_SN()\n",
    "n_epochs = 3\n",
    "wl = lkca14.wl[0:n_epochs,order,:]\n",
    "# Sort by ind\n",
    "ind = (wl[0] > wl0) & (wl[0] < wl1)\n",
    "\n",
    "wl = wl[:,ind]\n",
    "fl = lkca14.fl[0:n_epochs,order,ind]\n",
    "sigma = lkca14.sigma[0:n_epochs,order,ind]\n",
    "date1D = lkca14.date1D[0:n_epochs]"
   ]
  },
  {
   "cell_type": "code",
   "execution_count": 5,
   "metadata": {
    "collapsed": true
   },
   "outputs": [],
   "source": [
    "N = len(wl.flatten())\n",
    "V11 = np.empty((N,N), dtype=np.float64)\n",
    "matrix_functions.fill_V11_one(V11, wl.flatten(), a, l)\n",
    "V11[np.diag_indices_from(V11)] += sigma.flatten()**2"
   ]
  },
  {
   "cell_type": "code",
   "execution_count": 26,
   "metadata": {
    "collapsed": false
   },
   "outputs": [
    {
     "name": "stderr",
     "output_type": "stream",
     "text": [
      "/home/ian/.build/anaconda/lib/python3.5/site-packages/matplotlib/pyplot.py:516: RuntimeWarning: More than 20 figures have been opened. Figures created through the pyplot interface (`matplotlib.pyplot.figure`) are retained until explicitly closed and may consume too much memory. (To control this warning, see the rcParam `figure.max_open_warning`).\n",
      "  max_open_warning, RuntimeWarning)\n"
     ]
    }
   ],
   "source": [
    "fig, ax = plt.subplots(nrows=1, figsize=(3.5,3.5))\n",
    "# ext = (wl0, wl1, wl0, wl1)\n",
    "im = ax.imshow(V11, interpolation=\"none\", cmap=\"viridis\", origin=\"upper\") #, extent=ext)\n",
    "ax.set_xlabel(r\"$\\lambda\\;[\\AA]$\")\n",
    "ax.set_ylabel(r\"$\\lambda\\;[\\AA]$\")\n",
    "\n",
    "ax.xaxis.set_ticklabels([])\n",
    "ax.yaxis.set_ticklabels([])\n",
    "# ax.xaxis.set_major_locator(MultipleLocator(2.0))\n",
    "# ax.yaxis.set_major_locator(MultipleLocator(2.0))\n",
    "\n",
    "de = N/n_epochs\n",
    "\n",
    "x_offset = 0.75 * de\n",
    "y_offset = 0.2 * de\n",
    "for i in range(n_epochs):\n",
    "    for j in range(n_epochs):\n",
    "        ax.annotate(\"({},{})\".format(j+1,i+1), (x_offset + i * de, y_offset + j * de), color=\"w\", size=\"x-small\", ha=\"center\")\n",
    "\n",
    "lw=0.3\n",
    "ax.axhline(de, color=\"w\", lw=lw)\n",
    "ax.axhline(2 * de, color=\"w\", lw=lw)\n",
    "ax.axvline(de, color=\"w\", lw=lw)\n",
    "ax.axvline(2 * de, color=\"w\", lw=lw)\n",
    "        \n",
    "# Create an axis that is the pixel index\n",
    "# Then label (1,1) (2,3) etc. In the caption we can explain what these reference.\n",
    "\n",
    "\n",
    "fig.colorbar(im)\n",
    "\n",
    "fig.subplots_adjust(left=0.2, right=0.9)\n",
    "fig.savefig(\"V11_multi_epoch.pdf\")\n",
    "fig.savefig(\"V11_multi_epoch.png\")"
   ]
  },
  {
   "cell_type": "code",
   "execution_count": null,
   "metadata": {
    "collapsed": true
   },
   "outputs": [],
   "source": []
  }
 ],
 "metadata": {
  "kernelspec": {
   "display_name": "Python 3",
   "language": "python",
   "name": "python3"
  },
  "language_info": {
   "codemirror_mode": {
    "name": "ipython",
    "version": 3
   },
   "file_extension": ".py",
   "mimetype": "text/x-python",
   "name": "python",
   "nbconvert_exporter": "python",
   "pygments_lexer": "ipython3",
   "version": "3.5.2"
  }
 },
 "nbformat": 4,
 "nbformat_minor": 0
}
