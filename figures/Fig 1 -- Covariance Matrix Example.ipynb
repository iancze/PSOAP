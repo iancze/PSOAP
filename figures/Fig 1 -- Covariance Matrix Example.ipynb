{
 "cells": [
  {
   "cell_type": "markdown",
   "metadata": {},
   "source": [
    "A small (20 x 20) covariance matrix evaluated by a squared exponential kernel."
   ]
  },
  {
   "cell_type": "code",
   "execution_count": 1,
   "metadata": {
    "collapsed": true
   },
   "outputs": [],
   "source": [
    "import numpy as np\n",
    "\n",
    "from matplotlib import rcParams\n",
    "rcParams[\"xtick.direction\"] = \"out\"\n",
    "rcParams[\"ytick.direction\"] = \"out\"\n",
    "\n",
    "import matplotlib.pyplot as plt\n",
    "import psoap\n",
    "from psoap.data import lkca14\n",
    "from psoap import matrix_functions\n",
    "\n",
    "from matplotlib.ticker import FormatStrFormatter as FSF\n",
    "from matplotlib.ticker import MaxNLocator\n",
    "from matplotlib.ticker import MultipleLocator"
   ]
  },
  {
   "cell_type": "code",
   "execution_count": 2,
   "metadata": {
    "collapsed": true
   },
   "outputs": [],
   "source": [
    "lkca14.sort_by_SN()"
   ]
  },
  {
   "cell_type": "code",
   "execution_count": 3,
   "metadata": {
    "collapsed": false
   },
   "outputs": [],
   "source": [
    "order = 22\n",
    "wl0 = 5160\n",
    "wl1 = 5161"
   ]
  },
  {
   "cell_type": "code",
   "execution_count": 4,
   "metadata": {
    "collapsed": false
   },
   "outputs": [],
   "source": [
    "wl = lkca14.wl[:,order,:]\n",
    "# Sort by ind\n",
    "ind = (wl[0] > wl0) & (wl[0] < wl1)\n",
    "\n",
    "wl = wl[:,ind]\n",
    "fl = lkca14.fl[:,order,ind]\n",
    "sigma = lkca14.sigma[:,order,ind]\n",
    "date1D = lkca14.date1D\n",
    "n_epochs = lkca14.n_epochs"
   ]
  },
  {
   "cell_type": "code",
   "execution_count": 5,
   "metadata": {
    "collapsed": false
   },
   "outputs": [
    {
     "name": "stdout",
     "output_type": "stream",
     "text": [
      "22\n"
     ]
    }
   ],
   "source": [
    "N = len(wl[0])\n",
    "print(N)"
   ]
  },
  {
   "cell_type": "code",
   "execution_count": 6,
   "metadata": {
    "collapsed": true
   },
   "outputs": [],
   "source": [
    "fig, ax = plt.subplots(nrows=1, figsize=(2.5, 2.5))\n",
    "\n",
    "for i in range(n_epochs):\n",
    "    ax.plot(wl[i], fl[i])\n",
    "    \n",
    "ax.set_ylabel(r\"$\\lambda\\;[\\AA]$\")\n",
    "plt.show()\n",
    "# fig.savefig(\"V11_example.pdf\")\n",
    "# fig.savefig(\"V11_example.png\")"
   ]
  },
  {
   "cell_type": "code",
   "execution_count": 7,
   "metadata": {
    "collapsed": false
   },
   "outputs": [],
   "source": [
    "V11 = np.empty((N, N), dtype=np.float64)\n",
    "matrix_functions.get_V11_one(V11, wl[0], 0.2, 30.0)\n",
    "V11[np.diag_indices_from(V11)] += sigma[0]**2\n",
    "\n",
    "fig, ax = plt.subplots(nrows=1, figsize=(3.0,3.0))\n",
    "ext = (wl0, wl1, wl0, wl1)\n",
    "im = ax.imshow(V11, interpolation=\"none\", cmap=\"viridis\", extent=ext)\n",
    "ax.set_xlabel(r\"$\\lambda\\;[\\AA]$\")\n",
    "ax.set_ylabel(r\"$\\lambda\\;[\\AA]$\")\n",
    "\n",
    "ax.xaxis.set_major_formatter(FSF(\"%.1f\"))\n",
    "ax.yaxis.set_major_formatter(FSF(\"%.1f\"))\n",
    "ax.xaxis.set_major_locator(MultipleLocator(0.4))\n",
    "ax.yaxis.set_major_locator(MultipleLocator(0.4))\n",
    "\n",
    "\n",
    "fig.colorbar(im)\n",
    "\n",
    "fig.subplots_adjust(left=0.2, right=0.83)\n",
    "fig.savefig(\"V11_example.pdf\")\n",
    "fig.savefig(\"V11_example.png\")"
   ]
  },
  {
   "cell_type": "code",
   "execution_count": null,
   "metadata": {
    "collapsed": true
   },
   "outputs": [],
   "source": []
  }
 ],
 "metadata": {
  "kernelspec": {
   "display_name": "Python 3",
   "language": "python",
   "name": "python3"
  },
  "language_info": {
   "codemirror_mode": {
    "name": "ipython",
    "version": 3
   },
   "file_extension": ".py",
   "mimetype": "text/x-python",
   "name": "python",
   "nbconvert_exporter": "python",
   "pygments_lexer": "ipython3",
   "version": "3.5.2"
  }
 },
 "nbformat": 4,
 "nbformat_minor": 0
}
