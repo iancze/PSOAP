{
 "cells": [
  {
   "cell_type": "code",
   "execution_count": 1,
   "metadata": {
    "collapsed": true
   },
   "outputs": [],
   "source": [
    "import matplotlib.pyplot as plt\n",
    "import numpy as np"
   ]
  },
  {
   "cell_type": "code",
   "execution_count": 2,
   "metadata": {
    "collapsed": true
   },
   "outputs": [],
   "source": [
    "def sqexp_func(x0i, x1i, x0v=None, x1v=None, amp=None, l=None):\n",
    "    '''amp is the amplitude\n",
    "    lv is the scale length in km/s.\n",
    "\n",
    "    This funny signature with x0i, x1i, x0v, etc... is so that this function can be later used\n",
    "    in the np.from_function routine to create a matrix.'''\n",
    "\n",
    "    x0 = x0v[x0i]\n",
    "    x1 = x1v[x1i]\n",
    "\n",
    "    return amp * amp * np.exp(-0.5 * (x0 - x1)**2 / l**2)"
   ]
  },
  {
   "cell_type": "code",
   "execution_count": 4,
   "metadata": {
    "collapsed": true
   },
   "outputs": [],
   "source": [
    "def get_C(x0v, x1v, amp, l):\n",
    "    '''Returns a covariance matrix that is (len(wl0), len(wl1))'''\n",
    "\n",
    "    mat = np.fromfunction(sqexp_func, (len(x0v),len(x1v)), x0v=x0v, x1v=x1v, amp=amp, l=l, dtype=np.int)\n",
    "\n",
    "    return mat"
   ]
  },
  {
   "cell_type": "code",
   "execution_count": 12,
   "metadata": {
    "collapsed": true
   },
   "outputs": [],
   "source": [
    "N = 100\n",
    "xs = np.linspace(0, 10, num=N)\n",
    "n_draws = 10"
   ]
  },
  {
   "cell_type": "code",
   "execution_count": 7,
   "metadata": {
    "collapsed": true
   },
   "outputs": [],
   "source": [
    "a = 2.0\n",
    "l = 2.0"
   ]
  },
  {
   "cell_type": "code",
   "execution_count": 17,
   "metadata": {
    "collapsed": false
   },
   "outputs": [],
   "source": [
    "mat = get_C(xs, xs, a, l) + 1e-10 * np.eye(N)"
   ]
  },
  {
   "cell_type": "code",
   "execution_count": 18,
   "metadata": {
    "collapsed": false
   },
   "outputs": [],
   "source": [
    "draws = np.random.multivariate_normal(np.zeros(N), mat, size=n_draws)"
   ]
  },
  {
   "cell_type": "code",
   "execution_count": 19,
   "metadata": {
    "collapsed": false
   },
   "outputs": [],
   "source": [
    "fig, ax = plt.subplots()\n",
    "for i in range(n_draws):\n",
    "    ax.plot(xs, draws[i])\n",
    "fig.savefig(\"GPtest.pdf\")"
   ]
  },
  {
   "cell_type": "code",
   "execution_count": null,
   "metadata": {
    "collapsed": true
   },
   "outputs": [],
   "source": []
  }
 ],
 "metadata": {
  "kernelspec": {
   "display_name": "Python 3",
   "language": "python",
   "name": "python3"
  },
  "language_info": {
   "codemirror_mode": {
    "name": "ipython",
    "version": 3
   },
   "file_extension": ".py",
   "mimetype": "text/x-python",
   "name": "python",
   "nbconvert_exporter": "python",
   "pygments_lexer": "ipython3",
   "version": "3.5.2"
  }
 },
 "nbformat": 4,
 "nbformat_minor": 0
}
