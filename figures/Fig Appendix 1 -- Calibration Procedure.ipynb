{
 "cells": [
  {
   "cell_type": "code",
   "execution_count": 1,
   "metadata": {
    "collapsed": false
   },
   "outputs": [],
   "source": [
    "import numpy as np\n",
    "import matplotlib\n",
    "\n",
    "import matplotlib.pyplot as plt\n",
    "import psoap\n",
    "from psoap.data import gwori, lkca14\n",
    "from psoap import matrix_functions\n",
    "from psoap import covariance\n",
    "\n",
    "from matplotlib.ticker import FormatStrFormatter as FSF\n",
    "from matplotlib.ticker import MaxNLocator\n",
    "from matplotlib.ticker import MultipleLocator\n"
   ]
  },
  {
   "cell_type": "code",
   "execution_count": 12,
   "metadata": {
    "collapsed": true
   },
   "outputs": [],
   "source": [
    "order = 22\n",
    "wl0 = 5212\n",
    "wl1 = 5240\n",
    "# order = 49\n",
    "# wl0 = 8780\n",
    "# wl1 = 8800"
   ]
  },
  {
   "cell_type": "code",
   "execution_count": 13,
   "metadata": {
    "collapsed": true
   },
   "outputs": [],
   "source": [
    "a = 0.26\n",
    "l = 6.0"
   ]
  },
  {
   "cell_type": "code",
   "execution_count": 14,
   "metadata": {
    "collapsed": false
   },
   "outputs": [],
   "source": [
    "lkca14.sort_by_SN()\n",
    "n_epochs = 10\n",
    "wl = lkca14.wl[0:n_epochs,order,:]\n",
    "# Sort by ind\n",
    "ind = (wl[0] > wl0) & (wl[0] < wl1)\n",
    "\n",
    "wl = wl[:,ind]\n",
    "fl = lkca14.fl[0:n_epochs,order,ind]\n",
    "sigma = lkca14.sigma[0:n_epochs,order,ind]\n",
    "date1D = lkca14.date1D[0:n_epochs]"
   ]
  },
  {
   "cell_type": "code",
   "execution_count": 15,
   "metadata": {
    "collapsed": true
   },
   "outputs": [],
   "source": [
    "fl_2 = np.empty_like(fl)\n",
    "fl_2[:] = fl"
   ]
  },
  {
   "cell_type": "code",
   "execution_count": 16,
   "metadata": {
    "collapsed": false
   },
   "outputs": [],
   "source": [
    "fig, ax = plt.subplots()\n",
    "for i in range(n_epochs):\n",
    "    ax.plot(wl[i], fl[i])\n",
    "plt.show()"
   ]
  },
  {
   "cell_type": "code",
   "execution_count": 17,
   "metadata": {
    "collapsed": false
   },
   "outputs": [],
   "source": [
    "# determine the calibration polynomials for each order\n",
    "fl_cal = covariance.cycle_calibration(wl, fl, sigma, a, l, ncycles=3, order=2, limit_array=4, soften=1.0)"
   ]
  },
  {
   "cell_type": "code",
   "execution_count": 20,
   "metadata": {
    "collapsed": true
   },
   "outputs": [],
   "source": [
    "mu_prior, Sigma = covariance.predict_one(wl.flatten(), fl.flatten(), sigma.flatten(), wl.flatten(), a, l)\n",
    "# Sigma[np.diag_indices_from(Sigma)] += 1e-10 * np.ones(N)"
   ]
  },
  {
   "cell_type": "code",
   "execution_count": 21,
   "metadata": {
    "collapsed": true
   },
   "outputs": [],
   "source": [
    "mu_post, Sigma = covariance.predict_one(wl.flatten(), fl_cal.flatten(), sigma.flatten(), wl.flatten(), a, l)"
   ]
  },
  {
   "cell_type": "code",
   "execution_count": 24,
   "metadata": {
    "collapsed": false
   },
   "outputs": [
    {
     "name": "stdout",
     "output_type": "stream",
     "text": [
      "Resid  0.00417123575502\n",
      "Resid cal 0.00385066450633\n"
     ]
    }
   ],
   "source": [
    "fig, ax = plt.subplots(nrows=5, sharex=True, figsize=(3.5, 5.5))\n",
    "\n",
    "ax[0].axhline(1.0, ls=\":\", color=\"0.5\")\n",
    "ax[1].axhline(1.0, ls=\":\", color=\"0.5\")\n",
    "ax[2].axhline(1.0, ls=\":\", color=\"0.5\")\n",
    "\n",
    "\n",
    "for i in range(n_epochs):\n",
    "    ax[0].plot(wl[i], fl_2[i], lw=1)\n",
    "\n",
    "    \n",
    "    ax[2].plot(wl[i], fl_cal[i]/fl[i], lw=1)\n",
    "    \n",
    "    ax[3].plot(wl[i], fl_cal[i], lw=1)\n",
    "#     ax[4].plot() # residuals\n",
    "\n",
    "resid = fl.flatten() - mu_prior\n",
    "resid_cal = fl_cal.flatten() - mu_post\n",
    "\n",
    "# Total squared error\n",
    "print(\"Resid \", np.mean(resid*resid))\n",
    "print(\"Resid cal\", np.mean(resid_cal*resid_cal))\n",
    "\n",
    "ax[1].plot(wl.flatten(), resid, \".\", color=\"0.5\") # residuals\n",
    "ax[1].set_ylim(-0.4, 0.4)\n",
    "ax[4].plot(wl.flatten(), resid_cal, \".\", color=\"0.5\")\n",
    "ax[4].set_ylim(-0.4, 0.4)    \n",
    "    \n",
    "ax[-1].set_xlabel(r\"$\\lambda\\;[\\AA]$\")\n",
    "\n",
    "fig.savefig(\"calibration.pdf\")\n",
    "fig.savefig(\"calibration.png\")"
   ]
  },
  {
   "cell_type": "code",
   "execution_count": 15,
   "metadata": {
    "collapsed": false
   },
   "outputs": [
    {
     "name": "stderr",
     "output_type": "stream",
     "text": [
      "/home/ian/.build/anaconda/lib/python3.5/site-packages/matplotlib/pyplot.py:516: RuntimeWarning: More than 20 figures have been opened. Figures created through the pyplot interface (`matplotlib.pyplot.figure`) are retained until explicitly closed and may consume too much memory. (To control this warning, see the rcParam `figure.max_open_warning`).\n",
      "  max_open_warning, RuntimeWarning)\n"
     ]
    }
   ],
   "source": [
    "# Make a better plot of each epoch, showing original, vs new.\n",
    "for i in range(n_epochs):\n",
    "    fig, ax = plt.subplots(nrows=2, sharex=True)\n",
    "\n",
    "    wl_orig = wl[i]\n",
    "    fl_orig = fl[i]\n",
    "    \n",
    "    wl_rest = np.delete(wl, i, axis=0)\n",
    "    fl_rest = np.delete(fl, i, axis=0)\n",
    "    \n",
    "    fl_c = fl_cal[i]\n",
    "    fl_c_rest = np.delete(fl_cal, i, axis=0)\n",
    "    \n",
    "    for j in range(n_epochs - 1):\n",
    "        ax[0].plot(wl_rest[j], fl_c_rest[j], lw=0.8, color=\"0.5\")\n",
    "        \n",
    "    ax[0].plot(wl_orig, fl_orig, \"k\")\n",
    "    ax[0].plot(wl_orig, fl_c, \"m\")\n",
    "    \n",
    "    fig.savefig(\"moving_spec_{}.png\".format(i))\n",
    "    \n",
    "    plt.close(\"all\")"
   ]
  },
  {
   "cell_type": "code",
   "execution_count": null,
   "metadata": {
    "collapsed": true
   },
   "outputs": [],
   "source": []
  }
 ],
 "metadata": {
  "kernelspec": {
   "display_name": "Python 3",
   "language": "python",
   "name": "python3"
  },
  "language_info": {
   "codemirror_mode": {
    "name": "ipython",
    "version": 3
   },
   "file_extension": ".py",
   "mimetype": "text/x-python",
   "name": "python",
   "nbconvert_exporter": "python",
   "pygments_lexer": "ipython3",
   "version": "3.5.2"
  }
 },
 "nbformat": 4,
 "nbformat_minor": 0
}
