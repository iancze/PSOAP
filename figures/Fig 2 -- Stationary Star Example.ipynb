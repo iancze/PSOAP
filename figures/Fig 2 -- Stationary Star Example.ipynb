{
 "cells": [
  {
   "cell_type": "markdown",
   "metadata": {},
   "source": [
    "A larger stationary example"
   ]
  },
  {
   "cell_type": "code",
   "execution_count": 1,
   "metadata": {
    "collapsed": true
   },
   "outputs": [],
   "source": [
    "import numpy as np\n",
    "import matplotlib\n",
    "\n",
    "import matplotlib.pyplot as plt\n",
    "import psoap\n",
    "from psoap.data import lkca14\n",
    "from psoap import matrix_functions\n",
    "from psoap import covariance\n",
    "\n",
    "from matplotlib.ticker import FormatStrFormatter as FSF\n",
    "from matplotlib.ticker import MaxNLocator\n",
    "from matplotlib.ticker import MultipleLocator"
   ]
  },
  {
   "cell_type": "code",
   "execution_count": 2,
   "metadata": {
    "collapsed": true
   },
   "outputs": [],
   "source": [
    "lkca14.sort_by_SN()"
   ]
  },
  {
   "cell_type": "code",
   "execution_count": 3,
   "metadata": {
    "collapsed": false
   },
   "outputs": [],
   "source": [
    "order = 22\n",
    "wl0 = 5165\n",
    "wl1 = 5178"
   ]
  },
  {
   "cell_type": "code",
   "execution_count": 4,
   "metadata": {
    "collapsed": false
   },
   "outputs": [
    {
     "name": "stdout",
     "output_type": "stream",
     "text": [
      "Matrices of size 289\n"
     ]
    }
   ],
   "source": [
    "snind = 10\n",
    "wl = lkca14.wl[snind,order,:]\n",
    "# Sort by ind\n",
    "ind = (wl > wl0) & (wl < wl1)\n",
    "\n",
    "wl = wl[ind]\n",
    "fl = lkca14.fl[snind,order,ind]\n",
    "sigma = lkca14.sigma[snind,order,ind]\n",
    "date1D = lkca14.date1D[snind]\n",
    "n_epochs = 1\n",
    "N = len(wl)\n",
    "print(\"Matrices of size {}\".format(N))"
   ]
  },
  {
   "cell_type": "code",
   "execution_count": 20,
   "metadata": {
    "collapsed": true
   },
   "outputs": [],
   "source": [
    "a = 0.26\n",
    "l = 5.98\n",
    "n_draw = 5"
   ]
  },
  {
   "cell_type": "code",
   "execution_count": 21,
   "metadata": {
    "collapsed": false
   },
   "outputs": [],
   "source": [
    "V11 = covariance.get_C(wl, wl, a, l) \n",
    "V11[np.diag_indices_from(V11)] += 1e-10 * np.ones(N)"
   ]
  },
  {
   "cell_type": "code",
   "execution_count": 22,
   "metadata": {
    "collapsed": false
   },
   "outputs": [],
   "source": [
    "V11_c = np.empty((N, N), dtype=np.float64) \n",
    "matrix_functions.fill_V11_one(V11_c, wl, a, l)\n",
    "V11_c[np.diag_indices_from(V11_c)] += 1e-10 * np.ones(N)"
   ]
  },
  {
   "cell_type": "code",
   "execution_count": 23,
   "metadata": {
    "collapsed": false
   },
   "outputs": [],
   "source": [
    "# draw_prior = np.random.multivariate_normal(np.ones(N), V11, size=n_draw)\n",
    "draw_prior_short = np.random.multivariate_normal(np.ones(N), V11_c, size=n_draw)"
   ]
  },
  {
   "cell_type": "code",
   "execution_count": 24,
   "metadata": {
    "collapsed": true
   },
   "outputs": [],
   "source": [
    "l = 15.00\n",
    "V11_c = np.empty((N, N), dtype=np.float64) \n",
    "matrix_functions.fill_V11_one(V11_c, wl, a, l)\n",
    "V11_c[np.diag_indices_from(V11_c)] += 1e-10 * np.ones(N)"
   ]
  },
  {
   "cell_type": "code",
   "execution_count": 25,
   "metadata": {
    "collapsed": true
   },
   "outputs": [],
   "source": [
    "draw_prior_long = np.random.multivariate_normal(np.ones(N), V11_c, size=n_draw)"
   ]
  },
  {
   "cell_type": "code",
   "execution_count": 9,
   "metadata": {
    "collapsed": true
   },
   "outputs": [],
   "source": [
    "mu, Sigma = covariance.predict_one(wl, fl, sigma, wl, a, l)\n",
    "Sigma[np.diag_indices_from(Sigma)] += 1e-10 * np.ones(N)"
   ]
  },
  {
   "cell_type": "code",
   "execution_count": 10,
   "metadata": {
    "collapsed": false
   },
   "outputs": [],
   "source": [
    "draw_post = np.random.multivariate_normal(mu, Sigma, size=n_draw)"
   ]
  },
  {
   "cell_type": "code",
   "execution_count": 26,
   "metadata": {
    "collapsed": false
   },
   "outputs": [],
   "source": [
    "ax_width = 3.0\n",
    "ax_height = 1.0\n",
    "ax_resid_height = 0.5\n",
    "\n",
    "left_margin = 0.55\n",
    "right_margin = 0.55\n",
    "\n",
    "bottom_margin = 0.4\n",
    "top_margin = 0.25\n",
    "\n",
    "middle_margin = 0.1\n",
    "\n",
    "y_min = 0.2\n",
    "y_max = 1.6\n",
    "dy = (y_max - y_min)/ax_height\n",
    "\n",
    "delta_y_resid = dy * ax_resid_height / 2\n",
    "\n",
    "\n",
    "xx = left_margin + right_margin + ax_width\n",
    "yy = bottom_margin + top_margin + 3 * middle_margin + 3. * ax_height + ax_resid_height\n",
    "\n",
    "fig = plt.figure(figsize=(xx,yy))\n",
    "\n",
    "# in figure fraction\n",
    "rect = [left_margin/xx, (yy - (top_margin + ax_height))/yy, ax_width/xx, ax_height/yy]\n",
    "\n",
    "ax0 = fig.add_axes(rect)\n",
    "for i in range(n_draw):\n",
    "    ax0.plot(wl, draw_prior_long[i], lw=0.5)\n",
    "ax0.xaxis.set_ticklabels([])\n",
    "ax0.set_xlim(wl0, wl1)\n",
    "ax0.set_ylim(y_min, y_max)\n",
    "\n",
    "rect = [left_margin/xx, (yy - (top_margin + 2 * ax_height + middle_margin))/yy, ax_width/xx, ax_height/yy]\n",
    "\n",
    "ax1 = fig.add_axes(rect)\n",
    "for i in range(n_draw):\n",
    "    ax1.plot(wl, draw_prior_short[i], lw=0.5)\n",
    "ax1.xaxis.set_ticklabels([])\n",
    "ax1.set_xlim(wl0, wl1)\n",
    "ax1.set_ylim(y_min, y_max)\n",
    "\n",
    "\n",
    "\n",
    "rect = [left_margin/xx, (yy - (top_margin + 3 * ax_height + 2*middle_margin))/yy, ax_width/xx, ax_height/yy]\n",
    "\n",
    "ax2 = fig.add_axes(rect)\n",
    "ax2.xaxis.set_ticklabels([])\n",
    "\n",
    "ax2.errorbar(wl, fl, yerr=sigma, fmt=\"none\", color=\"0.6\", capsize=0.0, ecolor=\"0.6\", lw=0.3)\n",
    "ax2.plot(wl, fl, \".\", color=\"0.4\", ms=2)\n",
    "for i in range(n_draw):\n",
    "    ax2.plot(wl, draw_post[i], lw=0.5)\n",
    "ax2.plot(wl, mu, \"k\", lw=0.7)\n",
    "\n",
    "ax2.set_xlim(wl0, wl1)\n",
    "ax2.set_ylim(y_min, y_max)\n",
    "\n",
    "\n",
    "\n",
    "rect = [left_margin/xx, (yy - (top_margin + 3 * ax_height + 3 * middle_margin + ax_resid_height))/yy, \n",
    "        ax_width/xx, ax_resid_height/yy]\n",
    "ax3 = fig.add_axes(rect)\n",
    "\n",
    "ax3.errorbar(wl, fl - mu, yerr=sigma, fmt=\"none\", color=\"0.6\", capsize=0.0, ecolor=\"0.6\", lw=0.3)\n",
    "ax3.plot(wl, fl - mu, \".\", color=\"0.4\", ms=2)\n",
    "ax3.set_xlim(wl0, wl1)\n",
    "ax3.set_ylim(-delta_y_resid, delta_y_resid)\n",
    "ax3.set_xlabel(r\"$\\lambda\\;[\\AA]$\")\n",
    "\n",
    "fig.savefig(\"single_star.pdf\")\n",
    "fig.savefig(\"single_star.png\")"
   ]
  },
  {
   "cell_type": "code",
   "execution_count": null,
   "metadata": {
    "collapsed": true
   },
   "outputs": [],
   "source": []
  },
  {
   "cell_type": "code",
   "execution_count": 12,
   "metadata": {
    "collapsed": true
   },
   "outputs": [],
   "source": [
    "ans = covariance.optimize_GP_one(wl, fl, sigma, a, l)"
   ]
  },
  {
   "cell_type": "code",
   "execution_count": 13,
   "metadata": {
    "collapsed": false
   },
   "outputs": [
    {
     "data": {
      "text/plain": [
       "array([ 0.27434737,  6.24919004])"
      ]
     },
     "execution_count": 13,
     "metadata": {},
     "output_type": "execute_result"
    }
   ],
   "source": [
    "ans"
   ]
  },
  {
   "cell_type": "code",
   "execution_count": null,
   "metadata": {
    "collapsed": true
   },
   "outputs": [],
   "source": []
  }
 ],
 "metadata": {
  "kernelspec": {
   "display_name": "Python 3",
   "language": "python",
   "name": "python3"
  },
  "language_info": {
   "codemirror_mode": {
    "name": "ipython",
    "version": 3
   },
   "file_extension": ".py",
   "mimetype": "text/x-python",
   "name": "python",
   "nbconvert_exporter": "python",
   "pygments_lexer": "ipython3",
   "version": "3.5.2"
  }
 },
 "nbformat": 4,
 "nbformat_minor": 0
}
