{
 "cells": [
  {
   "cell_type": "code",
   "execution_count": null,
   "metadata": {
    "collapsed": true
   },
   "outputs": [],
   "source": [
    "import numpy as np\n",
    "import matplotlib\n",
    "\n",
    "import matplotlib.pyplot as plt\n",
    "\n",
    "# import seaborn as sns\n",
    "# sns.set_palette(sns.color_palette(\"hls\", 20))\n",
    "# print(sns.color_palette(\"hls\", 10))"
   ]
  },
  {
   "cell_type": "code",
   "execution_count": null,
   "metadata": {
    "collapsed": true
   },
   "outputs": [],
   "source": [
    "def clamp(x): \n",
    "  return max(0, min(x, 255))\n",
    "\n",
    "colors = [(0.86, 0.37119999999999997, 0.33999999999999997), \n",
    " (0.86, 0.68320000000000003, 0.33999999999999997), \n",
    " (0.72479999999999989, 0.86, 0.33999999999999997), \n",
    " (0.41279999999999994, 0.86, 0.33999999999999997), \n",
    " (0.33999999999999997, 0.86, 0.57920000000000016), \n",
    " (0.33999999999999997, 0.82879999999999987, 0.86), \n",
    " (0.33999999999999997, 0.51679999999999948, 0.86), \n",
    " (0.47520000000000029, 0.33999999999999997, 0.86), \n",
    " (0.7871999999999999, 0.33999999999999997, 0.86), \n",
    " (0.86, 0.33999999999999997, 0.62079999999999991)]\n",
    "\n",
    "for color in colors:\n",
    "    print(\"'{:}',\".format(matplotlib.colors.rgb2hex(color)[1:]), end=\"\")\n",
    "#     r,g,b = color\n",
    "#     print(\"#{0:02x}{1:02x}{2:02x}\".format(clamp(r), clamp(g), clamp(b)))"
   ]
  }
 ],
 "metadata": {
  "kernelspec": {
   "display_name": "Python 3",
   "language": "python",
   "name": "python3"
  },
  "language_info": {
   "codemirror_mode": {
    "name": "ipython",
    "version": 3
   },
   "file_extension": ".py",
   "mimetype": "text/x-python",
   "name": "python",
   "nbconvert_exporter": "python",
   "pygments_lexer": "ipython3",
   "version": "3.5.2"
  }
 },
 "nbformat": 4,
 "nbformat_minor": 0
}
