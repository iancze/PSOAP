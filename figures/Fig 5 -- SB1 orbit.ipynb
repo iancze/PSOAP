{
 "cells": [
  {
   "cell_type": "code",
   "execution_count": 1,
   "metadata": {
    "collapsed": false
   },
   "outputs": [],
   "source": [
    "import numpy as np\n",
    "import matplotlib\n",
    "\n",
    "import matplotlib.pyplot as plt\n",
    "import psoap\n",
    "from psoap.data import lkca14\n",
    "from psoap import matrix_functions\n",
    "from psoap import covariance\n",
    "\n",
    "from matplotlib.ticker import FormatStrFormatter as FSF\n",
    "from matplotlib.ticker import MaxNLocator\n",
    "from matplotlib.ticker import MultipleLocator\n",
    "\n",
    "\n",
    "from psoap import orbit\n"
   ]
  },
  {
   "cell_type": "code",
   "execution_count": 19,
   "metadata": {
    "collapsed": false
   },
   "outputs": [],
   "source": [
    "K = 5.0 # km/s\n",
    "e = 0.2 # \n",
    "omega = 10.0 # deg\n",
    "P = 10.0 # days\n",
    "T0 = 0.0 # epoch\n",
    "gamma = 5.0 # km/s\n",
    "\n",
    "obs_dates = np.linspace(5, 30, num=7)\n",
    "\n",
    "\n",
    "sb1 = orbit.SB1(K, e, omega, P, T0, gamma, obs_dates)"
   ]
  },
  {
   "cell_type": "code",
   "execution_count": 20,
   "metadata": {
    "collapsed": false
   },
   "outputs": [],
   "source": [
    "vA = sb1.get_component_velocities()"
   ]
  },
  {
   "cell_type": "code",
   "execution_count": 21,
   "metadata": {
    "collapsed": true
   },
   "outputs": [],
   "source": [
    "dates_fine = np.linspace(0, 35, num=200)"
   ]
  },
  {
   "cell_type": "code",
   "execution_count": 22,
   "metadata": {
    "collapsed": false
   },
   "outputs": [],
   "source": [
    "vA_fine = sb1.get_component_velocities(dates_fine)"
   ]
  },
  {
   "cell_type": "code",
   "execution_count": 27,
   "metadata": {
    "collapsed": false
   },
   "outputs": [],
   "source": [
    "fig, ax = plt.subplots(figsize=(3.5, 2.0))\n",
    "ax.plot(dates_fine, vA_fine, \"b\")\n",
    "ax.plot(sb1.obs_dates, vA, \"bo\")\n",
    "\n",
    "ax.axhline(gamma, ls=\"-.\", color=\"0.5\")\n",
    "\n",
    "ax.set_xlabel(r\"$t$ [days]\")\n",
    "ax.set_ylabel(r\"$v_A$ [km $\\mathrm{s}^{-1}$]\")\n",
    "\n",
    "fig.subplots_adjust(left=0.14, right=0.86, bottom=0.24)\n",
    "fig.savefig(\"SB1_orbit.png\")\n",
    "fig.savefig(\"SB1_orbit.pdf\")"
   ]
  },
  {
   "cell_type": "code",
   "execution_count": null,
   "metadata": {
    "collapsed": true
   },
   "outputs": [],
   "source": []
  }
 ],
 "metadata": {
  "kernelspec": {
   "display_name": "Python 3",
   "language": "python",
   "name": "python3"
  },
  "language_info": {
   "codemirror_mode": {
    "name": "ipython",
    "version": 3
   },
   "file_extension": ".py",
   "mimetype": "text/x-python",
   "name": "python",
   "nbconvert_exporter": "python",
   "pygments_lexer": "ipython3",
   "version": "3.5.2"
  }
 },
 "nbformat": 4,
 "nbformat_minor": 0
}
