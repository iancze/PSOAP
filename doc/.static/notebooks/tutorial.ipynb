{
 "cells": [
  {
   "cell_type": "markdown",
   "metadata": {},
   "source": [
    "# Tutorial \n",
    "\n",
    "This tutorial works through the example of fitting the LP661-13 dataset which appeared in [Czekala et al. 2017](http://adsabs.harvard.edu/abs/2017ApJ...840...49C). The spectra were originally acquired by [Dittmann et al. 2017](http://adsabs.harvard.edu/abs/2017ApJ...836..124D), and can be downloaded in HDF5 format [**here**](https://figshare.com/articles/LP661-13_TRES_Spectra/5572714).\n",
    "\n",
    "If you are looking to use data from a different telescope, you will need to process these spectra into a format like this HDF5 file. Some additional notes on how to do this are in [processing your spectra to an HDF5 file](http://psoap.readthedocs.io/en/latest/configuration.html#processing-your-spectra-to-an-hdf5-file).\n",
    "\n",
    "This tutorial assumes that you have already followed the [installation instructions](http://psoap.readthedocs.io/en/latest/installation.html).\n"
   ]
  },
  {
   "cell_type": "markdown",
   "metadata": {},
   "source": [
    "## Visualizing the dataset\n",
    "\n",
    "Before we do any analysis with PSOAP, it's a good idea to plot up all of your data. That way, we can see if there are any regions of the spectrum we may want to pay special attention to"
   ]
  },
  {
   "cell_type": "code",
   "execution_count": 1,
   "metadata": {},
   "outputs": [
    {
     "name": "stdout",
     "output_type": "stream",
     "text": [
      "usage: psoap_hdf5_exploder.py [-h] [--orders [ORDERS [ORDERS ...]]] [--SNR]\r\n",
      "                              [--topo]\r\n",
      "\r\n",
      "Make summary plots for a full HDF5 dataset.\r\n",
      "\r\n",
      "optional arguments:\r\n",
      "  -h, --help            show this help message and exit\r\n",
      "  --orders [ORDERS [ORDERS ...]]\r\n",
      "                        Which orders to plot. By default, all orders are\r\n",
      "                        plotted. Can add more than one order in a spaced list,\r\n",
      "                        e.g., --orders 22 23 24 but not --orders=22,23,24\r\n",
      "  --SNR                 Plot spectra in order of highest SNR first, instead of\r\n",
      "                        by date. Default is by date.\r\n",
      "  --topo                Plot spectra in topocentric frame instead of\r\n",
      "                        barycentric frame. Default is barycentric frame.\r\n"
     ]
    }
   ],
   "source": [
    "!psoap_hdf5_exploder.py --help"
   ]
  },
  {
   "cell_type": "markdown",
   "metadata": {},
   "source": [
    "This will produce a bunch of plots in a newly-created `plots` directory.\n",
    "\n",
    "## Creating a configuration file\n",
    "\n",
    "\n",
    "PSOAP generally relies upon a configuration text file for many of the project-specific settings. To create one from scratch, use the `psoap_initialize.py` command"
   ]
  },
  {
   "cell_type": "code",
   "execution_count": 2,
   "metadata": {},
   "outputs": [
    {
     "name": "stdout",
     "output_type": "stream",
     "text": [
      "Using Python Version 3.6.1 |Anaconda 4.4.0 (64-bit)| (default, May 11 2017, 13:09:58) \n",
      "[GCC 4.4.7 20120313 (Red Hat 4.4.7-1)]\n",
      "usage: psoap_initialize.py [-h] [--check] [--model {SB1,SB2,ST3}]\n",
      "\n",
      "Initialize a new directory to do inference.\n",
      "\n",
      "optional arguments:\n",
      "  -h, --help            show this help message and exit\n",
      "  --check               To help folks check whether the package was installed\n",
      "                        properly.\n",
      "  --model {SB1,SB2,ST3}\n",
      "                        Which type of model to use, SB1, SB2, ST1, or SB3.\n"
     ]
    }
   ],
   "source": [
    "!psoap_initialize.py --help"
   ]
  },
  {
   "cell_type": "markdown",
   "metadata": {},
   "source": [
    "For this project, we'll do"
   ]
  },
  {
   "cell_type": "code",
   "execution_count": null,
   "metadata": {
    "collapsed": true
   },
   "outputs": [],
   "source": [
    "!psoap_initialize.py --model SB2"
   ]
  },
  {
   "cell_type": "markdown",
   "metadata": {},
   "source": [
    "Open up the new `config.yaml` file in your directory with your favorite text editor, and familiarize yourself with the settings. For more information, check out :ref:`configuration`.\n",
    "\n",
    "\n",
    "## Setting up the chunks file\n",
    "\n",
    "Because Gaussian processes are generally very computationally intensive, we'll need to split the spectrum up into chunks so that it can be processed in parallel. The easiest way to get started is with `psoap_generate_chunks.py`"
   ]
  },
  {
   "cell_type": "code",
   "execution_count": 3,
   "metadata": {},
   "outputs": [
    {
     "name": "stdout",
     "output_type": "stream",
     "text": [
      "usage: psoap_generate_chunks.py [-h] [--pixels PIXELS] [--overlap OVERLAP]\r\n",
      "                                [--start START] [--end END]\r\n",
      "\r\n",
      "Auto-generate comprehensive chunks.dat file, which can be later edited by\r\n",
      "hand.\r\n",
      "\r\n",
      "optional arguments:\r\n",
      "  -h, --help         show this help message and exit\r\n",
      "  --pixels PIXELS    Roughly how many pixels should we keep in each chunk?\r\n",
      "  --overlap OVERLAP  How many pixels of overlap to aim for.\r\n",
      "  --start START      Starting wavelength.\r\n",
      "  --end END          Ending wavelength.\r\n"
     ]
    }
   ],
   "source": [
    "!psoap_generate_chunks.py --help"
   ]
  },
  {
   "cell_type": "markdown",
   "metadata": {},
   "source": [
    "Try running this command with the default values, and then open up the `chunks.dat` file that now exists in your local directory. You can try playing around with the specific values, but if you want to regenerate the file, you'll need to delete the existing `chunks.dat` file from the directory first. To make things go quickly for this tutorial, we're only going to use a limited section of the spectrum. Therefore, we're going to open up `chunks.dat` and delete the chunks blueward of XX AA and redward of AA, leaving only 3 actual chunks. If you were doing this for real, you could choose your chunks more wisely. The inference procedure is set up so that it's one chunk per CPU core, so generally feel free to use as many chunks as you have CPU cores, since there is no additional time penalty.\n"
   ]
  },
  {
   "cell_type": "code",
   "execution_count": null,
   "metadata": {
    "collapsed": true
   },
   "outputs": [],
   "source": []
  }
 ],
 "metadata": {
  "kernelspec": {
   "display_name": "Python 3",
   "language": "python",
   "name": "python3"
  },
  "language_info": {
   "codemirror_mode": {
    "name": "ipython",
    "version": 3
   },
   "file_extension": ".py",
   "mimetype": "text/x-python",
   "name": "python",
   "nbconvert_exporter": "python",
   "pygments_lexer": "ipython3",
   "version": "3.6.3"
  }
 },
 "nbformat": 4,
 "nbformat_minor": 2
}
